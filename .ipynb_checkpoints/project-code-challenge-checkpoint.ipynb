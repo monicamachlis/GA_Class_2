{
 "cells": [
  {
   "cell_type": "markdown",
   "metadata": {},
   "source": [
    "<img src=\"http://imgur.com/1ZcRyrc.png\" style=\"float: left; margin: 20px; height: 55px\">\n",
    "\n",
    "# Project 1: Python Coding Exercises\n",
    "\n",
    "_Authors: Joseph Nelson (DC) _\n",
    "\n",
    "---"
   ]
  },
  {
   "cell_type": "markdown",
   "metadata": {},
   "source": [
    "The following code challenges are drawn from common exercises used in technical interviews.\n",
    "\n",
    "Please note that there may be several ways to approach each challenge. If you get stuck, try mapping out your approach in pseudocode first. Finally, while solutions to problems like these may be found online, remember that if you copy/paste code that you can't explain, you'll be missing out on the point of the project. The only way to truly learn a new skill is through practice, trial, and error - we can only help you improve by understanding where you are having trouble."
   ]
  },
  {
   "cell_type": "markdown",
   "metadata": {},
   "source": [
    "### Challenge 1: Largest Palindrome\n",
    "A palindromic number reads the same both ways. For example, 1234321 is a palindrome. The largest palindrome made from the product of two two-digit numbers is 9009 = 91 × 99. Find the largest palindrome made from the product of two three-digit numbers. Afterward, write a brief explanation walking through your code's logic in markdown."
   ]
  },
  {
   "cell_type": "code",
   "execution_count": 27,
   "metadata": {},
   "outputs": [
    {
     "name": "stdout",
     "output_type": "stream",
     "text": [
      "906609\n"
     ]
    }
   ],
   "source": [
    "# function to check for palindrome \n",
    "def palindrome_check(x): \n",
    "    y = str(x)\n",
    "    return y == y[::-1] \n",
    "\n",
    "#instantiate palindrome to 0 \n",
    "palindrome = 0 \n",
    "\n",
    "#loop from biggest three-digit number to smallest. \n",
    "for i in range(999, 99, -1): \n",
    "    #loop to get the next biggest three-digit number \n",
    "    for n in range (i, 99, -1):\n",
    "        if palindrome_check(i*n) and i*n > palindrome: \n",
    "            palindrome = i*n \n",
    "print(palindrome)"
   ]
  },
  {
   "cell_type": "markdown",
   "metadata": {},
   "source": [
    "\n",
    "### Challenge 2: Summation of Primes\n",
    "The sum of the primes below 10 is 2 + 3 + 5 + 7 = 17. Find the sum of all the primes below 2,000. Afterward, write a brief explanation walking through your code's logic in markdown."
   ]
  },
  {
   "cell_type": "code",
   "execution_count": 28,
   "metadata": {},
   "outputs": [
    {
     "name": "stdout",
     "output_type": "stream",
     "text": [
      "1000001\n"
     ]
    }
   ],
   "source": [
    "#function to check if number is prime\n",
    "def prime_check(n): \n",
    "    if n > 1:\n",
    "        for i in range(2, n):\n",
    "            if(n%i) == 0:\n",
    "                return False\n",
    "            else:\n",
    "                return True        \n",
    "        if n == 2: \n",
    "            return True \n",
    "    else:\n",
    "        return False \n",
    "  \n",
    "    \n",
    "# loop through all numbers below 2,000, check if they're prime and then add into total sum \n",
    "\n",
    "sum_primes = 0 \n",
    "i=1\n",
    "while i < 2000:\n",
    "    if(prime_check(i)):\n",
    "        sum_primes += i\n",
    "    i+=1 \n",
    "    \n",
    "print(sum_primes)\n",
    "        "
   ]
  },
  {
   "cell_type": "markdown",
   "metadata": {},
   "source": [
    "### Challenge 3: Multiples of 3 and 5\n",
    "If we list all of the natural numbers below 10 that are multiples of 3 or 5, we get 3, 5, 6, and 9. The sum of these multiples is 23. Find the sum of all the multiples of 3 and 5 below 1,000. Afterward, write a brief explanation walking through your code's logic in markdown."
   ]
  },
  {
   "cell_type": "code",
   "execution_count": 30,
   "metadata": {},
   "outputs": [
    {
     "name": "stdout",
     "output_type": "stream",
     "text": [
      "33165\n"
     ]
    }
   ],
   "source": [
    "#function to check if multiple of 3 \n",
    "def mult_3(n): \n",
    "    return(n%3 ==0)\n",
    "\n",
    "#function to check if multiple of 5 \n",
    "def mult_5(n):\n",
    "    return(n%5 == 0)\n",
    "\n",
    "i = 1 \n",
    "sum = 0\n",
    "while i < 1000: \n",
    "    if mult_3(i) and mult_5(i): \n",
    "        sum+=i\n",
    "    i+=1 \n",
    "print(sum)\n",
    "    "
   ]
  },
  {
   "cell_type": "markdown",
   "metadata": {},
   "source": [
    "### Challenge 4: String Compressor\n",
    "Implement a method to perform basic string compression using the counts of repeated characters. (This is called run-length encoding.) For example, the string \"aabcccccaaa\" would become a2b1c5a3. If the “compressed” string would not become smaller than the original string, your method should return the original string. You can assume the string has only uppercase and lowercase letters (a–z). Specify whether your solution is case sensitive or case insensitive and what you would need to change to make it the other. Afterward, write a brief explanation walking through your code's logic in markdown."
   ]
  },
  {
   "cell_type": "code",
   "execution_count": 25,
   "metadata": {},
   "outputs": [
    {
     "name": "stdout",
     "output_type": "stream",
     "text": [
      "Enter string (case sensitive): HHG\n"
     ]
    }
   ],
   "source": [
    "original_text = raw_input(\"Enter string (case sensitive): \")"
   ]
  },
  {
   "cell_type": "code",
   "execution_count": 26,
   "metadata": {},
   "outputs": [
    {
     "name": "stdout",
     "output_type": "stream",
     "text": [
      "Compressed string: H2G1\n"
     ]
    }
   ],
   "source": [
    "list_chars =[] \n",
    "list_count =[] \n",
    "\n",
    "i = 1\n",
    "original_length = len(original_text)\n",
    "list_chars.append(original_text[0])\n",
    "\n",
    "    #create unique list of characters of original string\n",
    "while i <original_length: \n",
    "    #check if character is already in list. if it isn't append it to list\n",
    "    for x in original_text: \n",
    "        if x not in list_chars: \n",
    "            list_chars.append(original_text[i-1])\n",
    "            i+=1 \n",
    "        else: i+=1\n",
    "            \n",
    "#create count of times that each unique character in list was in the original text and store counts in lists\n",
    "counter = 0 \n",
    "char_count = 0 \n",
    "\n",
    "while counter < len(original_text):\n",
    "    for k in list_chars: \n",
    "        for j in original_text: \n",
    "            if k == j: \n",
    "                char_count+=1  \n",
    "                counter+=1\n",
    "        else: \n",
    "            list_count.append(char_count)\n",
    "            char_count = 0\n",
    "            counter+=1\n",
    "\n",
    "\n",
    "final_string = \"\"\n",
    "#concat final string \n",
    "i=0\n",
    "while i < len(list_chars):\n",
    "    final_string += (list_chars[i]) \n",
    "    final_string += str((list_count[i]))\n",
    "    i+=1\n",
    "    \n",
    "print(\"Compressed string: \" + final_string)"
   ]
  },
  {
   "cell_type": "markdown",
   "metadata": {},
   "source": [
    "### *BONUS* Challenge: FizzBuzz\n",
    "Write a program that prints all of the numbers from 1 to 100. For multiples of 3, instead of the number, print \"Fizz;\" for multiples of 5, print \"Buzz.\" For numbers that are multiples of both 3 and 5, print \"FizzBuzz.\" Afterward, write a brief explanation walking through your code's logic in markdown."
   ]
  },
  {
   "cell_type": "code",
   "execution_count": null,
   "metadata": {
    "collapsed": true
   },
   "outputs": [],
   "source": []
  }
 ],
 "metadata": {
  "anaconda-cloud": {},
  "kernelspec": {
   "display_name": "Python 2",
   "language": "python",
   "name": "python2"
  },
  "language_info": {
   "codemirror_mode": {
    "name": "ipython",
    "version": 2
   },
   "file_extension": ".py",
   "mimetype": "text/x-python",
   "name": "python",
   "nbconvert_exporter": "python",
   "pygments_lexer": "ipython2",
   "version": "2.7.13"
  }
 },
 "nbformat": 4,
 "nbformat_minor": 2
}
