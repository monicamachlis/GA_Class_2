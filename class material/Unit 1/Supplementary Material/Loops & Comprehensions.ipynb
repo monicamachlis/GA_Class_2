{
 "cells": [
  {
   "cell_type": "markdown",
   "metadata": {},
   "source": [
    "### Loops & Comprehensions"
   ]
  },
  {
   "cell_type": "markdown",
   "metadata": {},
   "source": [
    "This workbook will work through different aspects of using loops in Python.  We'll start off with some basics, and then work through more advanced material."
   ]
  },
  {
   "cell_type": "markdown",
   "metadata": {},
   "source": [
    "This workbook assumes you already have some basic working knowledge of Python loops from class material."
   ]
  },
  {
   "cell_type": "markdown",
   "metadata": {},
   "source": [
    "**Additional Definitions:**\n",
    " - *break*: this causes the loop to stop\n",
    " - *pass*: this causes the loop to skip to the next item.  Ie, when you get to this item, just skip it. "
   ]
  },
  {
   "cell_type": "markdown",
   "metadata": {},
   "source": [
    "Here's a basic example:  "
   ]
  },
  {
   "cell_type": "code",
   "execution_count": 5,
   "metadata": {},
   "outputs": [
    {
     "name": "stdout",
     "output_type": "stream",
     "text": [
      "The number:  34\n",
      "The number:  49\n",
      "The number:  13.6\n",
      "The number:  57\n",
      "Broke the loop.  Item that stopped it was:  the string\n"
     ]
    }
   ],
   "source": [
    "# this loop stops as soon as it runs into an item that isn't a number\n",
    "the_list = [34, 49, 13.6, 57, 'the string', 49, 101.8]\n",
    "\n",
    "for item in the_list:\n",
    "    if type(item) == int or type(item) == float:\n",
    "        print(\"The number: \", item)\n",
    "    else:\n",
    "        print(\"Broke the loop.  Item that stopped it was: \", item)\n",
    "        break"
   ]
  },
  {
   "cell_type": "code",
   "execution_count": 6,
   "metadata": {},
   "outputs": [
    {
     "name": "stdout",
     "output_type": "stream",
     "text": [
      "The number:  34\n",
      "The number:  49\n",
      "The number:  13.6\n",
      "The number:  57\n",
      "The number:  49\n",
      "The number:  101.8\n"
     ]
    }
   ],
   "source": [
    "# likewise, this item checks to see if it's not a number, and simply passes onto the next item\n",
    "for item in the_list:\n",
    "    if type(item) == str:\n",
    "        pass\n",
    "    else:\n",
    "        print('The number: ', item)"
   ]
  },
  {
   "cell_type": "markdown",
   "metadata": {},
   "source": [
    "**Double Loops:**\n",
    "\n",
    "Just as you can loop through every item within a list, you can loop through every item in a list that's inside another list.\n",
    "\n",
    "Take a look at the following examples:"
   ]
  },
  {
   "cell_type": "code",
   "execution_count": 7,
   "metadata": {},
   "outputs": [
    {
     "name": "stdout",
     "output_type": "stream",
     "text": [
      "[1, 2, 3]\n",
      "[4, 5, 6]\n",
      "[7, 8, 9]\n",
      "[10, 11, 12]\n"
     ]
    }
   ],
   "source": [
    "list_of_lists = [[1,2,3], [4,5,6], [7,8,9], [10,11,12]]\n",
    "\n",
    "# this will print out every list inside list_of_lists\n",
    "for item in list_of_lists:\n",
    "    print(item)"
   ]
  },
  {
   "cell_type": "code",
   "execution_count": 9,
   "metadata": {},
   "outputs": [
    {
     "name": "stdout",
     "output_type": "stream",
     "text": [
      "1\n",
      "2\n",
      "3\n",
      "4\n",
      "5\n",
      "6\n",
      "7\n",
      "8\n",
      "9\n",
      "10\n",
      "11\n",
      "12\n"
     ]
    }
   ],
   "source": [
    "# the following loop will print out every single item inside every single list within the list\n",
    "for item in list_of_lists:\n",
    "    for number in item:\n",
    "        print(number)"
   ]
  },
  {
   "cell_type": "markdown",
   "metadata": {},
   "source": [
    "If we can take a minute to deconstruct what we just saw:\n",
    "\n",
    "   - *item* refers to every single value that exists within the variable list_of_lists\n",
    "   - In the second line, *number* refers to every single value within the variable *item*, and then it performs said piece of instruction on that item.\n",
    "   - So essentially this command is saying:\n",
    "    - Go through every item in the list\n",
    "     - For every item in *that* item, go through that and perform said instruction"
   ]
  },
  {
   "cell_type": "markdown",
   "metadata": {},
   "source": [
    "Now, it's your turn."
   ]
  },
  {
   "cell_type": "markdown",
   "metadata": {},
   "source": [
    "**Exercise 1:** Print through every single item that's nested within each list.  *Only print out the item if it's inside a nested list!*"
   ]
  },
  {
   "cell_type": "code",
   "execution_count": 10,
   "metadata": {},
   "outputs": [],
   "source": [
    "list_to_print = [[1,2,3,4], 38, 'a string', ['a', 'b', 'c'], 13.5, True, False, ['this', 'that', 'something else']]\n",
    "# write a loop that prints out the values inside the inner lists -- 1, 2, 3, 4, 'a', 'b', 'c', etc\n"
   ]
  },
  {
   "cell_type": "markdown",
   "metadata": {},
   "source": [
    "**Exercise 2:** Create a new list that only contains words that have the letter 'a' inside of them.\n",
    "**hint:** The string method split() is very handy for this."
   ]
  },
  {
   "cell_type": "code",
   "execution_count": 11,
   "metadata": {},
   "outputs": [
    {
     "data": {
      "text/plain": [
       "['Leo',\n",
       " \"Tolstoy's\",\n",
       " 'work',\n",
       " 'Anna',\n",
       " 'Karenina',\n",
       " 'is',\n",
       " 'a',\n",
       " 'sagacious',\n",
       " 'endeavor',\n",
       " 'that',\n",
       " 'truly',\n",
       " 'captures',\n",
       " 'the',\n",
       " 'irony',\n",
       " 'and',\n",
       " 'wit',\n",
       " 'of',\n",
       " 'the',\n",
       " 'Victorian',\n",
       " 'era',\n",
       " 'in',\n",
       " 'Moscow',\n",
       " 'during',\n",
       " 'that',\n",
       " 'time.']"
      ]
     },
     "execution_count": 11,
     "metadata": {},
     "output_type": "execute_result"
    }
   ],
   "source": [
    "my_string     = \"Leo Tolstoy's work Anna Karenina is a sagacious endeavor that truly captures the irony and wit of the Victorian era in Moscow during that time.\"\n",
    "words_with_as = []\n",
    "# your code here\n"
   ]
  },
  {
   "cell_type": "markdown",
   "metadata": {},
   "source": [
    "**List Comprehensions and Double Loops:** You can also use list comprehensions to go through double loops.  \n",
    "\n",
    "Take our original example that we used:"
   ]
  },
  {
   "cell_type": "code",
   "execution_count": 16,
   "metadata": {},
   "outputs": [
    {
     "data": {
      "text/plain": [
       "[1, 2, 3, 4, 5, 6, 7, 8, 9, 10, 11, 12]"
      ]
     },
     "execution_count": 16,
     "metadata": {},
     "output_type": "execute_result"
    }
   ],
   "source": [
    "list_of_lists = [[1,2,3], [4,5,6], [7,8,9], [10,11,12]]\n",
    "\n",
    "list_comp = [number for item in list_of_lists for number in item]\n",
    "list_comp"
   ]
  },
  {
   "cell_type": "markdown",
   "metadata": {},
   "source": [
    "To break down what we're seeing above:\n",
    " - the very first word 'number', represents what you're outputting\n",
    " - the next statement: 'for item in list_of_lists for number in item' is shorthand for:\n",
    "  - for item in list_of_lists:\n",
    "    - for number in item"
   ]
  },
  {
   "cell_type": "markdown",
   "metadata": {},
   "source": [
    "**Exercise 3:** Recreate exercise 1 using a list comprehension.\n",
    "**hint:** Be careful of where you put your 'if' statement."
   ]
  },
  {
   "cell_type": "code",
   "execution_count": null,
   "metadata": {},
   "outputs": [],
   "source": [
    "### Your Code Here\n"
   ]
  },
  {
   "cell_type": "markdown",
   "metadata": {},
   "source": [
    "**Exercise 4:** recreate exercise 2 using a list comprehension."
   ]
  },
  {
   "cell_type": "code",
   "execution_count": null,
   "metadata": {},
   "outputs": [],
   "source": [
    "### Your Code Here\n"
   ]
  },
  {
   "cell_type": "markdown",
   "metadata": {},
   "source": [
    "**Exercise 5:** Find the total number of letters in 'my_string' using a list comprehension.\n",
    "**hint:** the function sum() comes in handy here."
   ]
  },
  {
   "cell_type": "code",
   "execution_count": null,
   "metadata": {},
   "outputs": [],
   "source": [
    "### Your Code Here\n"
   ]
  },
  {
   "cell_type": "markdown",
   "metadata": {},
   "source": [
    "**Exercise 6:** Lots of passwords need to have a combination of numbers and letters in them.  There's no specific function within Python that tests whether or not a string contains a digit at all.\n",
    "\n",
    "The method isdigit() returns True only if every single item within it is numeric.\n",
    "The method isalpha() returns True only if every single item passed to it is alphabetic.\n",
    "\n",
    "Using loops and/or comprehensions, try and come up with a way to test whether or not a string contains both a letter and a number.\n",
    "\n",
    "**Hint:** The function any() is probably going to be a useful aide for making this exercise easier."
   ]
  },
  {
   "cell_type": "code",
   "execution_count": null,
   "metadata": {},
   "outputs": [],
   "source": [
    "# Your Code Here\n"
   ]
  },
  {
   "cell_type": "markdown",
   "metadata": {},
   "source": [
    "**Final Methods:  Zip and Enumerate**\n",
    "\n",
    "The two final looping methods that are used frequently in Python are *enumerate* and *zip*.  \n",
    "\n",
    "We'll take a look at how both of these work, and get some practice using each of them."
   ]
  },
  {
   "cell_type": "markdown",
   "metadata": {},
   "source": [
    "**Enumerate:** Lots of times you want to act not just on the item, but its index position.  \n",
    "\n",
    "Enumerative allows you to do this.\n",
    "\n",
    "Observe:"
   ]
  },
  {
   "cell_type": "code",
   "execution_count": 29,
   "metadata": {},
   "outputs": [
    {
     "name": "stdout",
     "output_type": "stream",
     "text": [
      "0 this\n",
      "1 that\n",
      "2 the other thing\n",
      "3 something else\n",
      "4 the last item\n"
     ]
    }
   ],
   "source": [
    "my_list = ['this', 'that', 'the other thing', 'something else', 'the last item']\n",
    "for index, item in enumerate(my_list):\n",
    "    print(index, item)"
   ]
  },
  {
   "cell_type": "markdown",
   "metadata": {},
   "source": [
    "To deconstruct what the above statement does:\n",
    " - the word *index* represents the index position of the item in the list\n",
    " - the word *item* represents the actual value inside the list"
   ]
  },
  {
   "cell_type": "markdown",
   "metadata": {},
   "source": [
    "**Zip**\n",
    "\n",
    "Zip gives you a way of combining multiple lists together.  \n",
    "\n",
    "Look at the following example:"
   ]
  },
  {
   "cell_type": "code",
   "execution_count": 30,
   "metadata": {},
   "outputs": [
    {
     "name": "stdout",
     "output_type": "stream",
     "text": [
      "1 4\n",
      "2 5\n",
      "3 6\n"
     ]
    }
   ],
   "source": [
    "list1 = [1, 2, 3]\n",
    "list2 = [4, 5, 6]\n",
    "\n",
    "for val1, val2 in zip(list1, list2):\n",
    "    print(val1, val2)"
   ]
  },
  {
   "cell_type": "markdown",
   "metadata": {},
   "source": [
    "As you can see, zipping lists together provides a way to act on multiple lists on the same time."
   ]
  },
  {
   "cell_type": "markdown",
   "metadata": {},
   "source": [
    "Let's get a little bit of practice."
   ]
  },
  {
   "cell_type": "markdown",
   "metadata": {},
   "source": [
    "**Exercise 7: Euclidean Distance**\n",
    "\n",
    "Euclidean distance is a way of calculating the distance between different sets of objects using the following formula: \n",
    "\n",
    "$$ distance = \\sqrt{(a_{1} - b_{1})^2 + (a_{2} - b_{2})^2 + (a_{3} - b_{3})^2 + ..... + (a_{n} - b_{n})^2} $$"
   ]
  },
  {
   "cell_type": "markdown",
   "metadata": {},
   "source": [
    "That is, for two sets of points, do the following:\n",
    " - Loop through both lists\n",
    " - Calculate the squared difference between the first two items, second two items, and so on\n",
    " - Sum up all the values from the step above\n",
    " - Take the square root of that value\n",
    " \n",
    "Using a loop and/or list comprehension, see if you can go ahead and calculate the Euclidean distance between the two lists given below.\n",
    "\n",
    "**Hint:** The final answer is 9.95, approximately."
   ]
  },
  {
   "cell_type": "code",
   "execution_count": 32,
   "metadata": {},
   "outputs": [],
   "source": [
    "list1 = [2, 3, 5, 9]\n",
    "list2 = [7, 11, 8, 10]\n",
    "\n",
    "### Your Code Here\n"
   ]
  }
 ],
 "metadata": {
  "kernelspec": {
   "display_name": "Python 3",
   "language": "python",
   "name": "python3"
  },
  "language_info": {
   "codemirror_mode": {
    "name": "ipython",
    "version": 3
   },
   "file_extension": ".py",
   "mimetype": "text/x-python",
   "name": "python",
   "nbconvert_exporter": "python",
   "pygments_lexer": "ipython3",
   "version": "3.7.1"
  }
 },
 "nbformat": 4,
 "nbformat_minor": 2
}
