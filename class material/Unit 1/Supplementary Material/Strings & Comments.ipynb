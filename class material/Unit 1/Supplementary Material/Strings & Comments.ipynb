{
 "cells": [
  {
   "cell_type": "markdown",
   "metadata": {},
   "source": [
    "### Printing, Strings, Comments"
   ]
  },
  {
   "cell_type": "markdown",
   "metadata": {},
   "source": [
    "This notebook is meant to be a simple, straightforward introduction for students who want basic practice repeating different aspects taught in the first portion of the Python Fundamentals unit. \n",
    "\n",
    "About half of the material regurgitates what was covered in class, and the other builds on it slightly to introduce some new material."
   ]
  },
  {
   "cell_type": "markdown",
   "metadata": {},
   "source": [
    "### Part I:  Very Basic Practice"
   ]
  },
  {
   "cell_type": "markdown",
   "metadata": {},
   "source": [
    "**Cell 1 Instructions**:  Assign three values to variables, and print each of them separately, and then in one single statement."
   ]
  },
  {
   "cell_type": "code",
   "execution_count": null,
   "metadata": {},
   "outputs": [],
   "source": [
    "### Put In Your Code Here ###\n"
   ]
  },
  {
   "cell_type": "markdown",
   "metadata": {},
   "source": [
    "**Cell 2 Instructions**: Take the same three variables you created, and insert them into a string using the technique covered in class."
   ]
  },
  {
   "cell_type": "code",
   "execution_count": null,
   "metadata": {},
   "outputs": [],
   "source": [
    "### Put In Your Code Here ###\n"
   ]
  },
  {
   "cell_type": "markdown",
   "metadata": {},
   "source": [
    "**Cell 3 Instructions**: Using the same three variables, insert them into a string, but perform a method on them -- it can either be a calculation or a method if it's a string.\n",
    "\n",
    "The following cell is an example.  Run it, observe the results, and then re-create it on your own."
   ]
  },
  {
   "cell_type": "code",
   "execution_count": null,
   "metadata": {
    "scrolled": true
   },
   "outputs": [],
   "source": [
    "a = 23\n",
    "b = 'Hello'\n",
    "c = 'Another string'\n",
    "\n",
    "print(\"The remainder of 5 going into a: \", a%5, \"b, uppercased: \", b.upper(), \"c, made into a title: \", c.title())"
   ]
  },
  {
   "cell_type": "markdown",
   "metadata": {},
   "source": [
    "For your cell, you can choose whatever sorts of operations you'd like.  Try and find a new one you haven't used yet."
   ]
  },
  {
   "cell_type": "code",
   "execution_count": null,
   "metadata": {},
   "outputs": [],
   "source": [
    "### Put In Your Code Here ###\n"
   ]
  },
  {
   "cell_type": "markdown",
   "metadata": {},
   "source": [
    "#### Using Variables With The Format Function ####\n",
    "\n",
    "We'll recreate similar variable insertions using the format() function.\n",
    "\n",
    "First, evaluate the following statement, and observe its results:"
   ]
  },
  {
   "cell_type": "code",
   "execution_count": null,
   "metadata": {},
   "outputs": [],
   "source": [
    "'The first variable: {0}, the second variable: {1}'.format('My first variable', 'My second variable')"
   ]
  },
  {
   "cell_type": "markdown",
   "metadata": {},
   "source": [
    "**Cell 4 Instructions**: Re-order the variables passed into the previous statement, and observe the change."
   ]
  },
  {
   "cell_type": "code",
   "execution_count": null,
   "metadata": {},
   "outputs": [],
   "source": [
    "### Your Code Here ###\n"
   ]
  },
  {
   "cell_type": "markdown",
   "metadata": {},
   "source": [
    "**Cell 5 Instructions:** Re-order the variables passed into the format function so the following sentence makes sense."
   ]
  },
  {
   "cell_type": "code",
   "execution_count": null,
   "metadata": {},
   "outputs": [],
   "source": [
    "'When I go to {4} I get {0} from the dairy aisle, {1} in produce, {3} from the international aisle \\\n",
    "and if my willpower is weak, a {2} at the checkout counter'.format('Key Foods', 'Butter', 'Hummus', 'Banana', 'KitKat')"
   ]
  },
  {
   "cell_type": "markdown",
   "metadata": {},
   "source": [
    "**Key Idea**:  When you specify variable position using numbers (that begin with 0), the order matters.\n",
    "\n",
    "When you specify variables using *keywords*, they don't.\n",
    "\n",
    "Evaluate the following cell to see an example:"
   ]
  },
  {
   "cell_type": "code",
   "execution_count": null,
   "metadata": {
    "scrolled": true
   },
   "outputs": [],
   "source": [
    "'My first name: {lastname}, My last name: {firstname}'.format(firstname='Benson', lastname='Aubrey')"
   ]
  },
  {
   "cell_type": "markdown",
   "metadata": {},
   "source": [
    "**Cell 6 Instructions**: Create your own string, using keyword arguments instead."
   ]
  },
  {
   "cell_type": "code",
   "execution_count": null,
   "metadata": {},
   "outputs": [],
   "source": [
    "### Your Code Goes Here ###\n"
   ]
  },
  {
   "cell_type": "markdown",
   "metadata": {},
   "source": [
    "**Formatting Variables With the Format Function**: Take a look at the following output, and notice its results."
   ]
  },
  {
   "cell_type": "code",
   "execution_count": null,
   "metadata": {},
   "outputs": [],
   "source": [
    "'My current bank balance: ${balance:.2f}'.format(balance=567)"
   ]
  },
  {
   "cell_type": "markdown",
   "metadata": {},
   "source": [
    "**Cell 7 Instructions**: Recreate the following result, try changing the number of decimal places used."
   ]
  },
  {
   "cell_type": "code",
   "execution_count": null,
   "metadata": {},
   "outputs": [],
   "source": [
    "### Your Code Here ###\n"
   ]
  },
  {
   "cell_type": "markdown",
   "metadata": {},
   "source": [
    "### Part II: Working With Comments, Escape Characters\n",
    "\n",
    "For the rest of this notebook, we'll have a little bit of fun using comments and escape characters.\n",
    "\n",
    "You've probably noticed that '#' symbols don't show up in code, like below:"
   ]
  },
  {
   "cell_type": "code",
   "execution_count": null,
   "metadata": {},
   "outputs": [],
   "source": [
    "# My Comments, Which Don't Appear\n",
    "print(\"The above line doesn't show up.\")"
   ]
  },
  {
   "cell_type": "markdown",
   "metadata": {},
   "source": [
    "**Cell 8 Instructions**: If you haven't already, print out some sort of code block that uses comments."
   ]
  },
  {
   "cell_type": "code",
   "execution_count": null,
   "metadata": {},
   "outputs": [],
   "source": [
    "### Your Code Here ###\n"
   ]
  },
  {
   "cell_type": "markdown",
   "metadata": {},
   "source": [
    "You can also add multiline quotes, using triple quotes, like below:"
   ]
  },
  {
   "cell_type": "code",
   "execution_count": null,
   "metadata": {},
   "outputs": [],
   "source": [
    "\"\"\"\n",
    "A multiline comment, \n",
    "Which allows us\n",
    "To make longer form comments\n",
    "\"\"\"\n",
    "print(\"The above does not show up.\")"
   ]
  },
  {
   "cell_type": "markdown",
   "metadata": {},
   "source": [
    "**Cell 9 Instructions**: Execute a code block, adding in your own multiline comment to demonstrate that it doesn't show up."
   ]
  },
  {
   "cell_type": "code",
   "execution_count": null,
   "metadata": {},
   "outputs": [],
   "source": [
    "### Your Code Here ###\n"
   ]
  },
  {
   "cell_type": "markdown",
   "metadata": {},
   "source": [
    "#### Escape Characters\n",
    "Observe the following lines, and what output they create:"
   ]
  },
  {
   "cell_type": "code",
   "execution_count": null,
   "metadata": {},
   "outputs": [],
   "source": [
    "print(\"This word will show up in 'quotes'\")"
   ]
  },
  {
   "cell_type": "code",
   "execution_count": null,
   "metadata": {},
   "outputs": [],
   "source": [
    "print('This word will also show up in \"quotes\", but in a different way.')"
   ]
  },
  {
   "cell_type": "code",
   "execution_count": null,
   "metadata": {},
   "outputs": [],
   "source": [
    "print('This line, if not modified, produces an 'error' message')"
   ]
  },
  {
   "cell_type": "markdown",
   "metadata": {},
   "source": [
    "**Cell 10 Instructions**: Re-write the above code block so there are no error messages."
   ]
  },
  {
   "cell_type": "code",
   "execution_count": null,
   "metadata": {},
   "outputs": [],
   "source": [
    "### Your Code Here ###\n"
   ]
  },
  {
   "cell_type": "markdown",
   "metadata": {},
   "source": [
    "Now, look at the following block:"
   ]
  },
  {
   "cell_type": "code",
   "execution_count": null,
   "metadata": {},
   "outputs": [],
   "source": [
    "print(\"This will \\nnot appear on the same line.\")"
   ]
  },
  {
   "cell_type": "markdown",
   "metadata": {},
   "source": [
    "**Key Idea**:  The \\ character has special powers within a string, and backslashes followed by certain characters cause strings to format in particular ways.\n",
    "\n",
    "Here are a few more examples:"
   ]
  },
  {
   "cell_type": "code",
   "execution_count": null,
   "metadata": {},
   "outputs": [],
   "source": [
    "print(\"This will erase\\rthe part of the line preceeding this.\")"
   ]
  },
  {
   "cell_type": "code",
   "execution_count": null,
   "metadata": {},
   "outputs": [],
   "source": [
    "print(\"The following quote does not cause an error message: \\\"\")"
   ]
  },
  {
   "cell_type": "markdown",
   "metadata": {},
   "source": [
    "**Cell 11 Instructions**:  Use the '\\' character to print out the following statement as it appears:\n",
    "\n",
    "This is the first line\n",
    "\n",
    "The second one has this: \"\n",
    "\n",
    "The third one 'this'\n",
    "\n",
    "And yet there are no error message."
   ]
  },
  {
   "cell_type": "code",
   "execution_count": null,
   "metadata": {},
   "outputs": [],
   "source": [
    "### Your Code Here ###\n"
   ]
  },
  {
   "cell_type": "markdown",
   "metadata": {},
   "source": [
    "You can also use the '\\' to escape a backslash.  Observe the following line:"
   ]
  },
  {
   "cell_type": "code",
   "execution_count": null,
   "metadata": {},
   "outputs": [],
   "source": [
    "print(\"This line would \\\\n normally cause a new line, but it doesn't because of the backslash.\")"
   ]
  },
  {
   "cell_type": "markdown",
   "metadata": {},
   "source": [
    "**Cell 12 Instructions**: Recreate the previous statement so it forms a new line."
   ]
  },
  {
   "cell_type": "code",
   "execution_count": null,
   "metadata": {},
   "outputs": [],
   "source": [
    "### Your Code Here ###\n"
   ]
  },
  {
   "cell_type": "markdown",
   "metadata": {},
   "source": [
    "**Cell 13 Instructions**: Modify the following string so that it prints out correctly, like a normal file path."
   ]
  },
  {
   "cell_type": "code",
   "execution_count": null,
   "metadata": {},
   "outputs": [],
   "source": [
    "print('C:\\Users\\Jonat\\OneDrive\\General Assembly\\Data-Science\\Machine Learning Bootcamp\\Data')"
   ]
  }
 ],
 "metadata": {
  "kernelspec": {
   "display_name": "Python 3",
   "language": "python",
   "name": "python3"
  },
  "language_info": {
   "codemirror_mode": {
    "name": "ipython",
    "version": 3
   },
   "file_extension": ".py",
   "mimetype": "text/x-python",
   "name": "python",
   "nbconvert_exporter": "python",
   "pygments_lexer": "ipython3",
   "version": "3.7.1"
  }
 },
 "nbformat": 4,
 "nbformat_minor": 2
}
