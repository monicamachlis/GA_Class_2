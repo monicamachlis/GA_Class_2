{
 "cells": [
  {
   "cell_type": "markdown",
   "metadata": {},
   "source": [
    "**Exercise 1:**"
   ]
  },
  {
   "cell_type": "code",
   "execution_count": null,
   "metadata": {},
   "outputs": [],
   "source": [
    "list_to_print = [[1,2,3,4], 38, 'a string', ['a', 'b', 'c'], 13.5, True, False, ['this', 'that', 'something else']]\n",
    "\n",
    "for item in list_to_print:\n",
    "    if type(item) == list:\n",
    "        for value in item:\n",
    "            print(value)"
   ]
  },
  {
   "cell_type": "markdown",
   "metadata": {},
   "source": [
    "**Exercise 2:**"
   ]
  },
  {
   "cell_type": "code",
   "execution_count": null,
   "metadata": {},
   "outputs": [],
   "source": [
    "my_string     = \"Leo Tolstoy's work Anna Karenina is a sagacious endeavor that truly captures the irony and wit of the Victorian era in Moscow during that time.\"\n",
    "words_with_as = []\n",
    "\n",
    "for word in my_string.split():\n",
    "    if 'a' in word:\n",
    "        words_with_as.append(word)\n",
    "        \n",
    "print(words_with_as)"
   ]
  },
  {
   "cell_type": "markdown",
   "metadata": {},
   "source": [
    "**Exercise 3:**"
   ]
  },
  {
   "cell_type": "code",
   "execution_count": null,
   "metadata": {},
   "outputs": [],
   "source": [
    "list_comp = [value for item in list_to_print if type(item) == list for value in item]\n",
    "print(*list_comp)"
   ]
  },
  {
   "cell_type": "markdown",
   "metadata": {},
   "source": [
    "**Exercise 4:**"
   ]
  },
  {
   "cell_type": "code",
   "execution_count": null,
   "metadata": {},
   "outputs": [],
   "source": [
    "as_list_comp = [word for word in my_string.split() if 'a' in word]\n",
    "print(*as_list_comp)"
   ]
  },
  {
   "cell_type": "markdown",
   "metadata": {},
   "source": [
    "**Exercise 5:**\n",
    "\n",
    "Notice if you're not actually keeping the list you can just drop it."
   ]
  },
  {
   "cell_type": "code",
   "execution_count": null,
   "metadata": {},
   "outputs": [],
   "source": [
    "answer = sum(len(word) for word in my_string.split())\n",
    "print(answer)"
   ]
  },
  {
   "cell_type": "markdown",
   "metadata": {},
   "source": [
    "**Exercise 6:**"
   ]
  },
  {
   "cell_type": "markdown",
   "metadata": {},
   "source": [
    "The verbose way: "
   ]
  },
  {
   "cell_type": "code",
   "execution_count": null,
   "metadata": {},
   "outputs": [],
   "source": [
    "password    = '182a83474'\n",
    "num_digits  = 0\n",
    "num_letters = 0\n",
    "\n",
    "for word in password:\n",
    "    if word.isdigit():\n",
    "        num_digits += 1\n",
    "    if word.isalpha():\n",
    "        num_letters += 1\n",
    "\n",
    "if num_digits > 0 and num_letters > 0:\n",
    "    print('Password is okay')\n",
    "else:\n",
    "    print('Please make sure your password contains both numbers and letters')"
   ]
  },
  {
   "cell_type": "markdown",
   "metadata": {},
   "source": [
    "A more concise way:"
   ]
  },
  {
   "cell_type": "code",
   "execution_count": null,
   "metadata": {},
   "outputs": [],
   "source": [
    "password = 'a;4sldkfj'\n",
    "has_letters = any(char.isalpha() for char in password)\n",
    "has_numbers = any(char.isdigit() for char in password)\n",
    "\n",
    "if has_letters and has_numbers:\n",
    "    print(\"Your password is fine.\")\n",
    "else:\n",
    "    print(\"Please make sure your password contains both numbers and letters.\")"
   ]
  },
  {
   "cell_type": "markdown",
   "metadata": {},
   "source": [
    "**Exercise 7:**\n",
    "\n",
    "A verbose way to calculate the euclidean distance:"
   ]
  },
  {
   "cell_type": "code",
   "execution_count": null,
   "metadata": {},
   "outputs": [],
   "source": [
    "list1 = [2, 3, 5, 9]\n",
    "list2 = [7, 11, 8, 10]\n",
    "\n",
    "squared_difference = 0\n",
    "\n",
    "for val1, val2 in zip(list1, list2):\n",
    "    squared_difference += (val1 - val2)**2\n",
    "    \n",
    "euclidean_distance = squared_difference **.5\n",
    "print(euclidean_distance)"
   ]
  },
  {
   "cell_type": "markdown",
   "metadata": {},
   "source": [
    "A more concise way:"
   ]
  },
  {
   "cell_type": "code",
   "execution_count": null,
   "metadata": {},
   "outputs": [],
   "source": [
    "euclidean_distance = sum((val1 - val2)**2 for val1, val2 in zip(list1, list2))**.5\n",
    "print(euclidean_distance)"
   ]
  }
 ],
 "metadata": {
  "kernelspec": {
   "display_name": "Python 3",
   "language": "python",
   "name": "python3"
  },
  "language_info": {
   "codemirror_mode": {
    "name": "ipython",
    "version": 3
   },
   "file_extension": ".py",
   "mimetype": "text/x-python",
   "name": "python",
   "nbconvert_exporter": "python",
   "pygments_lexer": "ipython3",
   "version": "3.7.1"
  }
 },
 "nbformat": 4,
 "nbformat_minor": 2
}
